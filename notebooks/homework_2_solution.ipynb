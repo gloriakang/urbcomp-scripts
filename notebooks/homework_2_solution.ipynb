{
 "cells": [
  {
   "cell_type": "code",
   "execution_count": 20,
   "metadata": {
    "collapsed": false
   },
   "outputs": [
    {
     "name": "stdout",
     "output_type": "stream",
     "text": [
      "The autoreload extension is already loaded. To reload it, use:\n",
      "  %reload_ext autoreload\n"
     ]
    }
   ],
   "source": [
    "%matplotlib inline\n",
    "import matplotlib.pyplot as plt\n",
    "import sys\n",
    "sys.path.insert(0,'../')\n",
    "%load_ext autoreload\n",
    "%autoreload 2\n",
    "from utils import citibike_helpers,nyctaxi_helpers\n",
    "import numpy as np\n",
    "import pandas as pd  #requirement comes with anaconda\n",
    "import datetime \n",
    "from datetime import datetime as dt\n",
    "from geopy.distance import vincenty # requires separate install - pip install geopy\n",
    "import warnings\n",
    "warnings.filterwarnings('ignore')\n",
    "\n",
    "#Imports for Classification\n",
    "from sklearn.neural_network import MLPClassifier\n",
    "from sklearn.naive_bayes import GaussianNB #Naive Bayes Classifier\n",
    "from sklearn.tree import DecisionTreeClassifier\n",
    "from sklearn.neighbors import KNeighborsClassifier\n",
    "\n",
    "#Split Training and Testing Set.\n",
    "from sklearn.model_selection import train_test_split\n",
    "\n",
    "#Generate Classification Performance Results\n",
    "from sklearn.metrics import classification_report\n",
    "\n",
    "\n",
    "#Imports for Regression\n",
    "from sklearn.linear_model import LinearRegression\n",
    "from sklearn.neighbors import KNeighborsRegressor\n",
    "from sklearn.metrics import r2_score"
   ]
  },
  {
   "cell_type": "markdown",
   "metadata": {},
   "source": [
    "# Helpers to Read In Dataset"
   ]
  },
  {
   "cell_type": "code",
   "execution_count": 21,
   "metadata": {
    "collapsed": false
   },
   "outputs": [],
   "source": [
    "inputfile=\"../datasets/citibike/201701-citibike-tripdata.csv.gz\"\n",
    "df = citibike_helpers.load_citibike_data(inputfile)\n",
    "df = citibike_helpers.calculate_trip_durations_citibike(df)"
   ]
  },
  {
   "cell_type": "markdown",
   "metadata": {},
   "source": [
    "# Helpers to Preprocess Dataset"
   ]
  },
  {
   "cell_type": "code",
   "execution_count": 22,
   "metadata": {
    "collapsed": false
   },
   "outputs": [
    {
     "data": {
      "text/html": [
       "<div>\n",
       "<style>\n",
       "    .dataframe thead tr:only-child th {\n",
       "        text-align: right;\n",
       "    }\n",
       "\n",
       "    .dataframe thead th {\n",
       "        text-align: left;\n",
       "    }\n",
       "\n",
       "    .dataframe tbody tr th {\n",
       "        vertical-align: top;\n",
       "    }\n",
       "</style>\n",
       "<table border=\"1\" class=\"dataframe\">\n",
       "  <thead>\n",
       "    <tr style=\"text-align: right;\">\n",
       "      <th></th>\n",
       "      <th>Start Station Latitude</th>\n",
       "      <th>Start Station Longitude</th>\n",
       "      <th>End Station Latitude</th>\n",
       "      <th>End Station Longitude</th>\n",
       "      <th>User Type</th>\n",
       "      <th>Birth Year</th>\n",
       "      <th>Gender</th>\n",
       "      <th>Trip Duration Minutes</th>\n",
       "      <th>Start Time Hour</th>\n",
       "      <th>Start Time Minute</th>\n",
       "      <th>Start Time Day of Week</th>\n",
       "      <th>distance</th>\n",
       "    </tr>\n",
       "  </thead>\n",
       "  <tbody>\n",
       "    <tr>\n",
       "      <th>0</th>\n",
       "      <td>40.782750</td>\n",
       "      <td>-73.971370</td>\n",
       "      <td>40.775794</td>\n",
       "      <td>-73.976206</td>\n",
       "      <td>Subscriber</td>\n",
       "      <td>1965.0</td>\n",
       "      <td>2</td>\n",
       "      <td>11.333333</td>\n",
       "      <td>0</td>\n",
       "      <td>0</td>\n",
       "      <td>6</td>\n",
       "      <td>0.542899</td>\n",
       "    </tr>\n",
       "    <tr>\n",
       "      <th>1</th>\n",
       "      <td>40.729236</td>\n",
       "      <td>-73.990868</td>\n",
       "      <td>40.748549</td>\n",
       "      <td>-73.988084</td>\n",
       "      <td>Subscriber</td>\n",
       "      <td>1987.0</td>\n",
       "      <td>2</td>\n",
       "      <td>21.383333</td>\n",
       "      <td>0</td>\n",
       "      <td>0</td>\n",
       "      <td>6</td>\n",
       "      <td>1.340572</td>\n",
       "    </tr>\n",
       "    <tr>\n",
       "      <th>2</th>\n",
       "      <td>40.776829</td>\n",
       "      <td>-73.963888</td>\n",
       "      <td>40.768737</td>\n",
       "      <td>-73.961199</td>\n",
       "      <td>Customer</td>\n",
       "      <td>NaN</td>\n",
       "      <td>0</td>\n",
       "      <td>10.816667</td>\n",
       "      <td>0</td>\n",
       "      <td>0</td>\n",
       "      <td>6</td>\n",
       "      <td>0.575889</td>\n",
       "    </tr>\n",
       "    <tr>\n",
       "      <th>3</th>\n",
       "      <td>40.776829</td>\n",
       "      <td>-73.963888</td>\n",
       "      <td>40.768737</td>\n",
       "      <td>-73.961199</td>\n",
       "      <td>Customer</td>\n",
       "      <td>NaN</td>\n",
       "      <td>0</td>\n",
       "      <td>10.533333</td>\n",
       "      <td>0</td>\n",
       "      <td>1</td>\n",
       "      <td>6</td>\n",
       "      <td>0.575889</td>\n",
       "    </tr>\n",
       "    <tr>\n",
       "      <th>4</th>\n",
       "      <td>40.776829</td>\n",
       "      <td>-73.963888</td>\n",
       "      <td>40.768737</td>\n",
       "      <td>-73.961199</td>\n",
       "      <td>Customer</td>\n",
       "      <td>NaN</td>\n",
       "      <td>0</td>\n",
       "      <td>10.366667</td>\n",
       "      <td>0</td>\n",
       "      <td>1</td>\n",
       "      <td>6</td>\n",
       "      <td>0.575889</td>\n",
       "    </tr>\n",
       "  </tbody>\n",
       "</table>\n",
       "</div>"
      ],
      "text/plain": [
       "   Start Station Latitude  Start Station Longitude  End Station Latitude  \\\n",
       "0               40.782750               -73.971370             40.775794   \n",
       "1               40.729236               -73.990868             40.748549   \n",
       "2               40.776829               -73.963888             40.768737   \n",
       "3               40.776829               -73.963888             40.768737   \n",
       "4               40.776829               -73.963888             40.768737   \n",
       "\n",
       "   End Station Longitude   User Type  Birth Year  Gender  \\\n",
       "0             -73.976206  Subscriber      1965.0       2   \n",
       "1             -73.988084  Subscriber      1987.0       2   \n",
       "2             -73.961199    Customer         NaN       0   \n",
       "3             -73.961199    Customer         NaN       0   \n",
       "4             -73.961199    Customer         NaN       0   \n",
       "\n",
       "   Trip Duration Minutes  Start Time Hour  Start Time Minute  \\\n",
       "0              11.333333                0                  0   \n",
       "1              21.383333                0                  0   \n",
       "2              10.816667                0                  0   \n",
       "3              10.533333                0                  1   \n",
       "4              10.366667                0                  1   \n",
       "\n",
       "   Start Time Day of Week  distance  \n",
       "0                       6  0.542899  \n",
       "1                       6  1.340572  \n",
       "2                       6  0.575889  \n",
       "3                       6  0.575889  \n",
       "4                       6  0.575889  "
      ]
     },
     "execution_count": 22,
     "metadata": {},
     "output_type": "execute_result"
    }
   ],
   "source": [
    "df['Start Time'] =  pd.to_datetime(df['Start Time'], format='%Y-%m-%d %H:%M:%S')\n",
    "df['Start Time Hour'] = pd.DatetimeIndex(df['Start Time']).hour\n",
    "df['Start Time Minute'] = pd.DatetimeIndex(df['Start Time']).minute\n",
    "df['Start Time Day of Week'] = pd.DatetimeIndex(df['Start Time']).dayofweek\n",
    "f = lambda x: vincenty((x['Start Station Latitude'],x['Start Station Longitude']),(x['End Station Latitude'],x['End Station Longitude'])).miles\n",
    "df['distance'] = df.apply(f,axis=1)\n",
    "\n",
    "#Isolate Trips between 5 and 120 minutes.\n",
    "subset_trips=df[(df['Trip Duration Minutes']>5) & (df['Trip Duration Minutes']<120)]\n",
    "subset_trips.drop(['Trip Duration', 'Start Time', 'Stop Time', 'Start Station ID','Start Station Name','End Station Name','End Station ID', 'Bike ID'],axis=1,inplace=True)\n",
    "subset_trips.head()"
   ]
  },
  {
   "cell_type": "code",
   "execution_count": 23,
   "metadata": {
    "collapsed": false
   },
   "outputs": [
    {
     "data": {
      "text/html": [
       "<div>\n",
       "<style>\n",
       "    .dataframe thead tr:only-child th {\n",
       "        text-align: right;\n",
       "    }\n",
       "\n",
       "    .dataframe thead th {\n",
       "        text-align: left;\n",
       "    }\n",
       "\n",
       "    .dataframe tbody tr th {\n",
       "        vertical-align: top;\n",
       "    }\n",
       "</style>\n",
       "<table border=\"1\" class=\"dataframe\">\n",
       "  <thead>\n",
       "    <tr style=\"text-align: right;\">\n",
       "      <th></th>\n",
       "      <th>Start Station Latitude</th>\n",
       "      <th>Start Station Longitude</th>\n",
       "      <th>End Station Latitude</th>\n",
       "      <th>End Station Longitude</th>\n",
       "      <th>Birth Year</th>\n",
       "      <th>Gender</th>\n",
       "      <th>Trip Duration Minutes</th>\n",
       "      <th>Start Time Hour</th>\n",
       "      <th>Start Time Minute</th>\n",
       "      <th>Start Time Day of Week</th>\n",
       "      <th>distance</th>\n",
       "      <th>User Type_Customer</th>\n",
       "      <th>User Type_Subscriber</th>\n",
       "    </tr>\n",
       "  </thead>\n",
       "  <tbody>\n",
       "    <tr>\n",
       "      <th>0</th>\n",
       "      <td>40.782750</td>\n",
       "      <td>-73.971370</td>\n",
       "      <td>40.775794</td>\n",
       "      <td>-73.976206</td>\n",
       "      <td>1965.0</td>\n",
       "      <td>2</td>\n",
       "      <td>11.333333</td>\n",
       "      <td>0</td>\n",
       "      <td>0</td>\n",
       "      <td>6</td>\n",
       "      <td>0.542899</td>\n",
       "      <td>0</td>\n",
       "      <td>1</td>\n",
       "    </tr>\n",
       "    <tr>\n",
       "      <th>1</th>\n",
       "      <td>40.729236</td>\n",
       "      <td>-73.990868</td>\n",
       "      <td>40.748549</td>\n",
       "      <td>-73.988084</td>\n",
       "      <td>1987.0</td>\n",
       "      <td>2</td>\n",
       "      <td>21.383333</td>\n",
       "      <td>0</td>\n",
       "      <td>0</td>\n",
       "      <td>6</td>\n",
       "      <td>1.340572</td>\n",
       "      <td>0</td>\n",
       "      <td>1</td>\n",
       "    </tr>\n",
       "  </tbody>\n",
       "</table>\n",
       "</div>"
      ],
      "text/plain": [
       "   Start Station Latitude  Start Station Longitude  End Station Latitude  \\\n",
       "0               40.782750               -73.971370             40.775794   \n",
       "1               40.729236               -73.990868             40.748549   \n",
       "\n",
       "   End Station Longitude  Birth Year  Gender  Trip Duration Minutes  \\\n",
       "0             -73.976206      1965.0       2              11.333333   \n",
       "1             -73.988084      1987.0       2              21.383333   \n",
       "\n",
       "   Start Time Hour  Start Time Minute  Start Time Day of Week  distance  \\\n",
       "0                0                  0                       6  0.542899   \n",
       "1                0                  0                       6  1.340572   \n",
       "\n",
       "   User Type_Customer  User Type_Subscriber  \n",
       "0                   0                     1  \n",
       "1                   0                     1  "
      ]
     },
     "execution_count": 23,
     "metadata": {},
     "output_type": "execute_result"
    }
   ],
   "source": [
    "subset_trips = pd.get_dummies(subset_trips)\n",
    "subset_trips.dropna(inplace=True)\n",
    "subset_trips.head(2)"
   ]
  },
  {
   "cell_type": "markdown",
   "metadata": {},
   "source": [
    "# Helper to Create Two Separate Dataframes for Classification and Regression"
   ]
  },
  {
   "cell_type": "code",
   "execution_count": 24,
   "metadata": {
    "collapsed": true
   },
   "outputs": [],
   "source": [
    "subset_trips_classification=subset_trips.copy(deep=True)\n",
    "subset_trips_regression=subset_trips.copy(deep=True)"
   ]
  },
  {
   "cell_type": "code",
   "execution_count": 25,
   "metadata": {
    "collapsed": false
   },
   "outputs": [],
   "source": [
    "#Helper to categorize triptime into discrete classes\n",
    "def categorize_pickup_times(time_min):\n",
    "    if time_min<20: # Very Short Trips\n",
    "        return 1\n",
    "    elif time_min>=20 and time_min<45: #Medium Length Trips\n",
    "        return 2\n",
    "    elif time_min>=45: #Long Trips\n",
    "        return 3"
   ]
  },
  {
   "cell_type": "code",
   "execution_count": 26,
   "metadata": {
    "collapsed": false,
    "scrolled": true
   },
   "outputs": [],
   "source": [
    "subset_trips_classification['Trip Duration Class']=subset_trips_classification['Trip Duration Minutes'].apply(lambda x: categorize_pickup_times(x))"
   ]
  },
  {
   "cell_type": "code",
   "execution_count": 27,
   "metadata": {
    "collapsed": true
   },
   "outputs": [],
   "source": [
    "# Class Distribution\n",
    "# Class 1 466540\n",
    "# Class 2 79467\n",
    "# Class 3 2937"
   ]
  },
  {
   "cell_type": "markdown",
   "metadata": {},
   "source": [
    "# Classification\n",
    "\n",
    "## > Use the `subset_trips_classification` dataframe for this part.\n",
    "\n",
    "## > Classification Task: Classify  `Trip Duration Class` using all features in the `subset_trips_classification` dataframe except:  \n",
    "\n",
    "### `Trip Duration Minutes` and  `Trip Duration Class`.\n",
    "\n",
    "## Naive Bayes (Gaussian Naive Bayes), Multi Layer Perceptron, Decision Tree Classifier and K Neighbors Classifier using the scikit-learn package.\n",
    "\n",
    "## Note: For each model you will have to split the data into training and testing sets using the train_test_split function in scikit-learn and use a test_size of 0.33 (33%).\n",
    "\n",
    "\n",
    "## Report Classification Results (precision, recall and f1-score) using the classification_report function from scikit-learn.metrics\n"
   ]
  },
  {
   "cell_type": "code",
   "execution_count": 28,
   "metadata": {
    "collapsed": true
   },
   "outputs": [],
   "source": [
    "models = {}\n",
    "dtree_clf = DecisionTreeClassifier()\n",
    "nb_clf = GaussianNB()\n",
    "mlp_clf=MLPClassifier()\n",
    "knn_clf=KNeighborsClassifier()\n",
    "models.update({'Decision Tree':dtree_clf})\n",
    "models.update({'Naive Bayes':nb_clf})\n",
    "models.update({'Multilayer Perceptron':mlp_clf})\n",
    "models.update({'K-Nearest Neighbors':knn_clf})"
   ]
  },
  {
   "cell_type": "code",
   "execution_count": 29,
   "metadata": {
    "collapsed": false,
    "scrolled": false
   },
   "outputs": [
    {
     "name": "stdout",
     "output_type": "stream",
     "text": [
      "Running the Naive Bayes Classification...\n",
      "             precision    recall  f1-score   support\n",
      "\n",
      "          1       0.92      0.98      0.95    153889\n",
      "          2       0.83      0.49      0.62     26303\n",
      "          3       0.05      0.06      0.06       960\n",
      "\n",
      "avg / total       0.90      0.91      0.90    181152\n",
      "\n",
      "Running the Multilayer Perceptron Classification...\n",
      "             precision    recall  f1-score   support\n",
      "\n",
      "          1       0.89      1.00      0.94    153889\n",
      "          2       0.91      0.31      0.46     26303\n",
      "          3       0.00      0.00      0.00       960\n",
      "\n",
      "avg / total       0.89      0.89      0.87    181152\n",
      "\n",
      "Running the K-Nearest Neighbors Classification...\n",
      "             precision    recall  f1-score   support\n",
      "\n",
      "          1       0.90      0.99      0.94    153889\n",
      "          2       0.80      0.39      0.53     26303\n",
      "          3       0.40      0.00      0.00       960\n",
      "\n",
      "avg / total       0.88      0.89      0.88    181152\n",
      "\n",
      "Running the Decision Tree Classification...\n",
      "             precision    recall  f1-score   support\n",
      "\n",
      "          1       0.94      0.94      0.94    153889\n",
      "          2       0.64      0.65      0.64     26303\n",
      "          3       0.15      0.17      0.16       960\n",
      "\n",
      "avg / total       0.89      0.89      0.89    181152\n",
      "\n"
     ]
    }
   ],
   "source": [
    "y_cls = subset_trips_classification['Trip Duration Class']\n",
    "\n",
    "# move all the predictors into another variable\n",
    "XX_cls = subset_trips_classification.drop(['Trip Duration Class','Trip Duration Minutes'], axis = 1)\n",
    "\n",
    "# model name which could be any of the following\n",
    "# sorted by the amount of time they take to train the model:\n",
    "# Linear Regression, KNN Regression\n",
    "for model_name, model in models.items():\n",
    "    print(\"Running the {} Classification...\".format(model_name))\n",
    "    x_train, x_test, y_train, y_test = train_test_split(XX_cls, y_cls, test_size=0.33, random_state=42)\n",
    "    y_pred = nyctaxi_helpers.run(model,x_train, y_train, x_test)\n",
    "    clf_report = classification_report(y_test, y_pred)\n",
    "    print(clf_report)"
   ]
  },
  {
   "cell_type": "markdown",
   "metadata": {},
   "source": [
    "# Regression\n",
    "\n",
    "## Use the `subset_trips_regression` dataframe for this part.\n",
    "\n",
    "## Run Linear Regression, K-Neighbors Regressor using the scikit-learn package.\n",
    "\n",
    "## > Regression Task: Predict `Trip Duration Minutes` using all features in the `subset_trips_regression` dataframe except:  \n",
    "\n",
    "### `Trip Duration Minutes`.\n",
    "\n",
    "## Note: For each model you will have to split the data into training and testing sets using the train_test_split function in scikit-learn and use a test_size of 0.33 (33%).\n",
    " \n",
    "## Report regression performance using the  r2_score function in the scikit-learn.metrics module"
   ]
  },
  {
   "cell_type": "code",
   "execution_count": 30,
   "metadata": {
    "collapsed": true
   },
   "outputs": [],
   "source": [
    "models = {}\n",
    "lnrmodel = LinearRegression()\n",
    "knnmodel = KNeighborsRegressor()\n",
    "models.update({'Linear':lnrmodel})\n",
    "models.update({'KNN':knnmodel})"
   ]
  },
  {
   "cell_type": "code",
   "execution_count": 31,
   "metadata": {
    "collapsed": false
   },
   "outputs": [
    {
     "name": "stdout",
     "output_type": "stream",
     "text": [
      "Running the Linear Regression...\n",
      "R2 score=0.5192549210155281 \n",
      "\n",
      "Running the KNN Regression...\n",
      "R2 score=0.40007019712257696 \n",
      "\n"
     ]
    }
   ],
   "source": [
    "y_cls = subset_trips_regression['Trip Duration Minutes']\n",
    "# move all the predictors into another variable\n",
    "XX_cls = subset_trips_regression.drop(['Trip Duration Minutes'], axis = 1)\n",
    "# model name which could be any of the following\n",
    "# sorted by the amount of time they take to train the model:\n",
    "# Linear Regression, KNN Regression\n",
    "for model_name, model in models.items():\n",
    "    print(\"Running the {} Regression...\".format(model_name))\n",
    "    x_train, x_test, y_train, y_test = train_test_split(XX_cls, y_cls, test_size=0.33, random_state=42)\n",
    "    y_pred = nyctaxi_helpers.run(model,x_train, y_train, x_test)\n",
    "    r2 = r2_score(y_test, y_pred)\n",
    "    print('R2 score={}'.format(r2),\"\\n\")"
   ]
  },
  {
   "cell_type": "code",
   "execution_count": null,
   "metadata": {
    "collapsed": true
   },
   "outputs": [],
   "source": []
  }
 ],
 "metadata": {
  "kernelspec": {
   "display_name": "Python 3",
   "language": "python",
   "name": "python3"
  },
  "language_info": {
   "codemirror_mode": {
    "name": "ipython",
    "version": 3
   },
   "file_extension": ".py",
   "mimetype": "text/x-python",
   "name": "python",
   "nbconvert_exporter": "python",
   "pygments_lexer": "ipython3",
   "version": "3.5.2"
  },
  "latex_envs": {
   "bibliofile": "biblio.bib",
   "cite_by": "apalike",
   "current_citInitial": 1,
   "eqLabelWithNumbers": true,
   "eqNumInitial": 0
  }
 },
 "nbformat": 4,
 "nbformat_minor": 0
}
